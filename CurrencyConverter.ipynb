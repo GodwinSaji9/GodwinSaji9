{
  "nbformat": 4,
  "nbformat_minor": 0,
  "metadata": {
    "colab": {
      "provenance": [],
      "authorship_tag": "ABX9TyMiGIdZXGkUvzDfiLtuaXh5",
      "include_colab_link": true
    },
    "kernelspec": {
      "name": "python3",
      "display_name": "Python 3"
    },
    "language_info": {
      "name": "python"
    }
  },
  "cells": [
    {
      "cell_type": "markdown",
      "metadata": {
        "id": "view-in-github",
        "colab_type": "text"
      },
      "source": [
        "<a href=\"https://colab.research.google.com/github/GodwinSaji9/GodwinSaji9/blob/main/CurrencyConverter.ipynb\" target=\"_parent\"><img src=\"https://colab.research.google.com/assets/colab-badge.svg\" alt=\"Open In Colab\"/></a>"
      ]
    },
    {
      "cell_type": "code",
      "source": [
        "def get_amount():\n",
        "  while True:\n",
        "    try:\n",
        "      amount = float(input('Enter the amount: '))\n",
        "      if amount <= 0:\n",
        "        raise ValueError()\n",
        "      return amount\n",
        "    except ValueError:\n",
        "      print('Invalid amount')\n",
        "\n",
        "def get_currency(label):\n",
        "  currencies = ('USD', 'EUR', 'CAD')\n",
        "  while True:\n",
        "    currency = input(f'{label} currency (USD/EUR/CAD): ').upper()\n",
        "    if currency not in currencies:\n",
        "      print('Invalid currency')\n",
        "    else:\n",
        "      return currency\n",
        "\n",
        "\n",
        "def convert(amount, source_currency, target_currency):\n",
        "  exchange_rates = {\n",
        "    'USD': { 'EUR': 0.85, 'CAD': 1.25 },\n",
        "    'EUR': { 'USD': 1.18, 'CAD': 1.47 },\n",
        "    'CAD': { 'USD': 0.80, 'EUR': 0.68 },\n",
        "  }\n",
        "\n",
        "  if source_currency == target_currency:\n",
        "    return amount\n",
        "\n",
        "  return amount * exchange_rates[source_currency][target_currency]\n",
        "\n",
        "def main():\n",
        "  amount = get_amount()\n",
        "  source_currency = get_currency('Source')\n",
        "  target_currency = get_currency('Target')\n",
        "  converted_amount = convert(amount, source_currency, target_currency)\n",
        "  print(f'{amount} {source_currency} is equal to {converted_amount:.2f}')\n",
        "\n",
        "\n",
        "if __name__ == \"__main__\":\n",
        "  main()"
      ],
      "metadata": {
        "colab": {
          "base_uri": "https://localhost:8080/"
        },
        "id": "lnyoIqE7ezSK",
        "outputId": "2428b552-6190-4333-e016-19d2942f0ab3"
      },
      "execution_count": 5,
      "outputs": [
        {
          "output_type": "stream",
          "name": "stdout",
          "text": [
            "Enter the amount: 1234245\n",
            "Source currency (USD/EUR/CAD): eur\n",
            "Target currency (USD/EUR/CAD): usd\n",
            "1234245.0 EUR is equal to 1456409.10\n"
          ]
        }
      ]
    }
  ]
}